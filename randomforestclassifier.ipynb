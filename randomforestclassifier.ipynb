{
 "cells": [
  {
   "cell_type": "code",
   "execution_count": 1,
   "id": "1fc83b39",
   "metadata": {
    "_cell_guid": "b1076dfc-b9ad-4769-8c92-a6c4dae69d19",
    "_uuid": "8f2839f25d086af736a60e9eeb907d3b93b6e0e5",
    "execution": {
     "iopub.execute_input": "2023-08-05T14:48:45.886879Z",
     "iopub.status.busy": "2023-08-05T14:48:45.886326Z",
     "iopub.status.idle": "2023-08-05T14:50:46.048809Z",
     "shell.execute_reply": "2023-08-05T14:50:46.047434Z"
    },
    "papermill": {
     "duration": 120.170283,
     "end_time": "2023-08-05T14:50:46.052316",
     "exception": false,
     "start_time": "2023-08-05T14:48:45.882033",
     "status": "completed"
    },
    "tags": []
   },
   "outputs": [
    {
     "name": "stderr",
     "output_type": "stream",
     "text": [
      "/opt/conda/lib/python3.10/site-packages/scipy/__init__.py:146: UserWarning: A NumPy version >=1.16.5 and <1.23.0 is required for this version of SciPy (detected version 1.23.5\n",
      "  warnings.warn(f\"A NumPy version >={np_minversion} and <{np_maxversion}\"\n",
      "/opt/conda/lib/python3.10/site-packages/scipy/__init__.py:146: UserWarning: A NumPy version >=1.16.5 and <1.23.0 is required for this version of SciPy (detected version 1.23.5\n",
      "  warnings.warn(f\"A NumPy version >={np_minversion} and <{np_maxversion}\"\n",
      "/opt/conda/lib/python3.10/site-packages/scipy/__init__.py:146: UserWarning: A NumPy version >=1.16.5 and <1.23.0 is required for this version of SciPy (detected version 1.23.5\n",
      "  warnings.warn(f\"A NumPy version >={np_minversion} and <{np_maxversion}\"\n",
      "/opt/conda/lib/python3.10/site-packages/scipy/__init__.py:146: UserWarning: A NumPy version >=1.16.5 and <1.23.0 is required for this version of SciPy (detected version 1.23.5\n",
      "  warnings.warn(f\"A NumPy version >={np_minversion} and <{np_maxversion}\"\n",
      "/opt/conda/lib/python3.10/site-packages/scipy/__init__.py:146: UserWarning: A NumPy version >=1.16.5 and <1.23.0 is required for this version of SciPy (detected version 1.23.5\n",
      "  warnings.warn(f\"A NumPy version >={np_minversion} and <{np_maxversion}\"\n"
     ]
    },
    {
     "name": "stdout",
     "output_type": "stream",
     "text": [
      "En iyi hiperparametreler: {'max_depth': None, 'min_samples_leaf': 4, 'min_samples_split': 2, 'n_estimators': 200}\n",
      "En iyi doğruluk değeri (Doğrulama Kümesi): 0.7812293853073464\n",
      "Model Doğruluğu (Test Verisi): 0.7447916666666666\n"
     ]
    }
   ],
   "source": [
    "from sklearn.ensemble import RandomForestClassifier\n",
    "from sklearn.model_selection import GridSearchCV\n",
    "from sklearn.metrics import accuracy_score\n",
    "import pandas as pd\n",
    "\n",
    "# Veri setini yükledik.\n",
    "data = pd.read_csv('/kaggle/input/diabetes-data-set/diabetes.csv')\n",
    "\n",
    "# Bağımsız değişkenleri ve hedef değişkeni ayırdık.\n",
    "X = data.drop(\"Outcome\", axis=1)\n",
    "y = data[\"Outcome\"]\n",
    "\n",
    "# Önemli özellikleri seçtik.(Korelasyon haritasına göre).\n",
    "important_features = [\"Glucose\", \"BMI\", \"Age\", \"Pregnancies\"]\n",
    "\n",
    "X_important = X[important_features]\n",
    "\n",
    "# Veriyi train ve test kümelerine ayırdık.\n",
    "from sklearn.model_selection import train_test_split\n",
    "\n",
    "X_train, X_test, y_train, y_test = train_test_split(X_important, y, test_size=0.25, random_state=42)\n",
    "\n",
    "# Hiperparametre optimizasyonu\n",
    "param_grid = {\n",
    "    'n_estimators': [50, 100, 200, 300], # Ağaç sayısı\n",
    "    'max_depth': [None, 5, 10, 20],            # Ağacın maksimum derinliği\n",
    "    'min_samples_split': [2, 5, 10],           # Dallanma için minimum örnek sayısı\n",
    "    'min_samples_leaf': [1, 2, 4],              # Yapraklar için minimum örnek sayısı\n",
    "  }\n",
    "\n",
    "rf_classifier = RandomForestClassifier(random_state=42)\n",
    "\n",
    "grid_search = GridSearchCV(rf_classifier, param_grid, cv=5, scoring='accuracy', n_jobs=-1)\n",
    "grid_search.fit(X_train, y_train)\n",
    "\n",
    "# En iyi hiperparametreler ve en iyi doğruluk değeri\n",
    "print(\"En iyi hiperparametreler:\", grid_search.best_params_)\n",
    "print(\"En iyi doğruluk değeri (Doğrulama Kümesi):\", grid_search.best_score_)\n",
    "\n",
    "# Test veri kümesi üzerinde tahmin yaptık\n",
    "y_pred = grid_search.predict(X_test)\n",
    "\n",
    "# Doğruluk değerini hesapla\n",
    "accuracy = accuracy_score(y_test, y_pred)\n",
    "print(\"Model Doğruluğu (Test Verisi):\", accuracy)"
   ]
  }
 ],
 "metadata": {
  "kernelspec": {
   "display_name": "Python 3",
   "language": "python",
   "name": "python3"
  },
  "language_info": {
   "codemirror_mode": {
    "name": "ipython",
    "version": 3
   },
   "file_extension": ".py",
   "mimetype": "text/x-python",
   "name": "python",
   "nbconvert_exporter": "python",
   "pygments_lexer": "ipython3",
   "version": "3.10.12"
  },
  "papermill": {
   "default_parameters": {},
   "duration": 134.038847,
   "end_time": "2023-08-05T14:50:48.678851",
   "environment_variables": {},
   "exception": null,
   "input_path": "__notebook__.ipynb",
   "output_path": "__notebook__.ipynb",
   "parameters": {},
   "start_time": "2023-08-05T14:48:34.640004",
   "version": "2.4.0"
  }
 },
 "nbformat": 4,
 "nbformat_minor": 5
}
